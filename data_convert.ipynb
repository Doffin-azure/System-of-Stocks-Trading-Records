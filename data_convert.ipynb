{
 "cells": [
  {
   "cell_type": "code",
   "execution_count": 55,
   "metadata": {},
   "outputs": [],
   "source": [
    "import pandas as pd\n",
    "import numpy as np\n",
    "\n"
   ]
  },
  {
   "cell_type": "code",
   "execution_count": 56,
   "metadata": {},
   "outputs": [],
   "source": [
    "file_name = \"part-r-00000\"\n",
    "columns_list = ['主力净流入','主力流入','主力流出','超大买单成交量','超大买单成交额','超大卖单成交量','超大卖单成交额','大买单成交量','大买单成交额','大卖单成交量','大卖单成交额','中买单成交量','中买单成交额','中卖单成交量','中卖单成交额','小买单成交量','小买单成交额','小卖单成交量','小卖单成交额','时间范围']\n",
    "\n",
    "time_list = []\n",
    "\n",
    "price_table = pd.DataFrame(columns=columns_list)\n",
    "with open(file_name) as f:\n",
    "    while True:\n",
    "        line = f.readline()\n",
    "        if not line:\n",
    "            break\n",
    "        separate_by_space = line.split('\\t')\n",
    "        separate_by_colon = separate_by_space[1].split(',')\n",
    "        separate_by_slash = separate_by_space[0].split('_')\n",
    "        order_type = separate_by_slash[0]\n",
    "        order_id = separate_by_slash[1]\n",
    "        order_time = separate_by_slash[2]\n",
    "        order_size = separate_by_slash[3]\n",
    "        order_qty = float(separate_by_colon[0])\n",
    "        order_price = float(separate_by_colon[1].strip())\n",
    "        time_list.append(order_time)\n",
    "\n",
    "        if order_time not in price_table['时间范围'].values:\n",
    "            new_row = pd.DataFrame({'时间范围': [order_time]})\n",
    "            price_table = pd.concat([price_table, new_row], ignore_index=True)\n",
    "\n",
    "        if order_type == 'Buy':\n",
    "            if order_size == 'ExtraLarge':\n",
    "                price_table.loc[price_table['时间范围'] == order_time, '超大买单成交量'] = order_qty\n",
    "                price_table.loc[price_table['时间范围'] == order_time, '超大买单成交额'] = order_price\n",
    "            elif order_size == 'Large':\n",
    "                price_table.loc[price_table['时间范围'] == order_time, '大买单成交量'] = order_qty\n",
    "                price_table.loc[price_table['时间范围'] == order_time, '大买单成交额'] = order_price\n",
    "            elif order_size == 'Medium':\n",
    "                price_table.loc[price_table['时间范围'] == order_time, '中买单成交量'] = order_qty\n",
    "                price_table.loc[price_table['时间范围'] == order_time, '中买单成交额'] = order_price\n",
    "            elif order_size == 'Small':\n",
    "                price_table.loc[price_table['时间范围'] == order_time, '小买单成交量'] = order_qty\n",
    "                price_table.loc[price_table['时间范围'] == order_time, '小买单成交额'] = order_price\n",
    "        elif order_type == 'Sell':\n",
    "            if order_size == 'ExtraLarge':\n",
    "                price_table.loc[price_table['时间范围'] == order_time, '超大卖单成交量'] = order_qty\n",
    "                price_table.loc[price_table['时间范围'] == order_time, '超大卖单成交额'] = order_price\n",
    "            elif order_size == 'Large':\n",
    "                price_table.loc[price_table['时间范围'] == order_time, '大卖单成交量'] = order_qty\n",
    "                price_table.loc[price_table['时间范围'] == order_time, '大卖单成交额'] = order_price\n",
    "            elif order_size == 'Medium':\n",
    "                price_table.loc[price_table['时间范围'] == order_time, '中卖单成交量'] = order_qty\n",
    "                price_table.loc[price_table['时间范围'] == order_time, '中卖单成交额'] = order_price\n",
    "            elif order_size == 'Small':\n",
    "                price_table.loc[price_table['时间范围'] == order_time, '小卖单成交量'] = order_qty\n",
    "                price_table.loc[price_table['时间范围'] == order_time, '小卖单成交额'] = order_price\n",
    "\n",
    "\n",
    "\n",
    "\n"
   ]
  },
  {
   "cell_type": "code",
   "execution_count": 57,
   "metadata": {},
   "outputs": [
    {
     "name": "stderr",
     "output_type": "stream",
     "text": [
      "C:\\Users\\Administrator\\AppData\\Local\\Temp\\ipykernel_9892\\3023856724.py:3: FutureWarning: Downcasting object dtype arrays on .fillna, .ffill, .bfill is deprecated and will change in a future version. Call result.infer_objects(copy=False) instead. To opt-in to the future behavior, set `pd.set_option('future.no_silent_downcasting', True)`\n",
      "  price_table.fillna(0, inplace=True)\n"
     ]
    }
   ],
   "source": [
    "columns_list_2 = columns_list.copy()\n",
    "columns_list_2.remove('时间范围')\n",
    "price_table.fillna(0, inplace=True)"
   ]
  },
  {
   "cell_type": "code",
   "execution_count": 58,
   "metadata": {},
   "outputs": [
    {
     "data": {
      "text/plain": [
       "numpy.float64"
      ]
     },
     "execution_count": 58,
     "metadata": {},
     "output_type": "execute_result"
    }
   ],
   "source": [
    "type(price_table['超大卖单成交量'][0])"
   ]
  },
  {
   "cell_type": "code",
   "execution_count": 60,
   "metadata": {},
   "outputs": [],
   "source": [
    "\n",
    "for time in time_list:\n",
    "    price_table.loc[price_table['时间范围'] == time, '主力流入'] = price_table.loc[price_table['时间范围'] == time, '超大买单成交额'] + price_table.loc[price_table['时间范围'] == time, '大买单成交额']\n",
    "    price_table.loc[price_table['时间范围'] == time, '主力流出'] = price_table.loc[price_table['时间范围'] == time, '超大卖单成交额'] + price_table.loc[price_table['时间范围'] == time, '大卖单成交额']\n",
    "    price_table.loc[price_table['时间范围'] == time, '主力净流入'] = price_table.loc[price_table['时间范围'] == time, '主力流入'] - price_table.loc[price_table['时间范围'] == time, '主力流出']\n",
    "\n",
    "    \n",
    "\n",
    "\n",
    "price_table.sort_values(by ='时间范围', ascending=True, inplace=True)\n",
    "price_table.reset_index(drop=True, inplace=True)\n",
    "price_table.to_csv('price_table_sorted.csv', index=False,encoding='gbk')"
   ]
  }
 ],
 "metadata": {
  "kernelspec": {
   "display_name": "myenv1",
   "language": "python",
   "name": "python3"
  },
  "language_info": {
   "codemirror_mode": {
    "name": "ipython",
    "version": 3
   },
   "file_extension": ".py",
   "mimetype": "text/x-python",
   "name": "python",
   "nbconvert_exporter": "python",
   "pygments_lexer": "ipython3",
   "version": "3.12.4"
  }
 },
 "nbformat": 4,
 "nbformat_minor": 2
}
